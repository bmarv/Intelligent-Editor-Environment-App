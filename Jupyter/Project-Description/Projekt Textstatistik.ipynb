{
 "cells": [
  {
   "cell_type": "markdown",
   "metadata": {},
   "source": [
    "## Projekt : Textstatistik"
   ]
  },
  {
   "cell_type": "markdown",
   "metadata": {},
   "source": [
    "In diesem Projekt sollen Funktionen geschrieben werden, welche Woerter in einem Text identifizieren und zaehlen. Diese Funktionen werden benutzt, um zu zeigen, dass die Haeufigkeiten der Woerter in einem Text sehr heterogen sind und ungefaehr einer Zipf-Verteilung folgen.\n",
    "\n",
    "Als Ergebnis der Projektarbeit sollen sowohl die Python Programme und die Ergebnisse\n",
    "der Datenanalysen abgegeben werden, als auch ein begleitender Text, welcher Ihre\n",
    "Beschaeftigung mit diesem Projekt dokumentiert, also Vorueberlegungen, Erlaeuterungen und\n",
    "Erkenntnisse Ihrer Arbeit zusammenfasst. Achten Sie auch auf eine gute Dokumentation Ihrer\n",
    "Python Programme mit Hilfe von Kommentaren im Programmcode.\n",
    "\n"
   ]
  },
  {
   "cell_type": "markdown",
   "metadata": {},
   "source": [
    "- Fuer die statistische Analyse der Woerter in einem Text wird eine Funktion `L=splitstring(s)`\n",
    "benoetigt, die als Argument einen String `s` hat, und eine Liste `L` der Woerter zurueckliefert,\n",
    "die in diesem String vorkommen. Schreiben Sie eine solche Funktion. \n",
    "\n",
    "*Hinweis:* Sie koennen hierfuer regulaere Ausdruecke verwenden.\n",
    "\n",
    "- Es soll nun eine Python Funktion `n,W = TextStats(file,ReturnDict=False)` erstellt\n",
    "werden, welche eine Textdatei `file` einliest, und die verschiedenen Woerter im Text\n",
    "identifiziert und auszaehlt. Als Ergebnis soll die Funktion die Gesamtzahl der Woerter `n`,\n",
    "sowie ein Woerterbuch `W` vom Typ `dict` zurueckliefern. Wenn das Schluesselwortargument\n",
    "`ReturnDict` den boolean Wert `True` hat, so soll das Woerterbuch durch die unterschiedlichen\n",
    "Woerter des Textes indiziert werden und als Werte die Anzahl der jeweiligen\n",
    "Woerter im Text besitzen. Zum Beispiel `W[’die’]==913` bedeutet, dass das Wort ’die’\n",
    "913 mal im Text vorkommt. Wenn das Schluesselwortargument `ReturnDict` nicht angegeben\n",
    "wird, oder den boolean Wert `False` hat, so soll ein leeres Woerterbuch `W=dict([])`\n",
    "zurueckgegeben werden. Benutzen Sie Ihre Funktion `splitstring(s)` zur Identifizierung\n",
    "der Woerter in jeder Textzeile.\n",
    "- Laden Sie die beiden Teile des Buches Die Leiden des jungen Werther von Johann Wolfgang\n",
    "von Goethe vom Project Gutenberg :<br><br>\n",
    "http://www.gutenberg.org/cache/epub/2407/pg2407.txt<br>\n",
    "http://www.gutenberg.org/cache/epub/2408/pg2408.txt,<br><br>\n",
    "und fuegen Sie die Texte, ohne die englischen Einleitungen und Lizenzbelehlungen in einer Datei\n",
    "zusammen. \n",
    "- Wenden Sie die Funktion `textStats(file,ReturnDict=True)`\n",
    "auf diesen Text an. Wieviele Woerter stehen im Text?\n",
    "- Geben Sie eine Tabelle mit den Top-100 der haeufigsten Woerter und deren Anzahl im Text\n",
    "aus. Welches sind die haeufigsten Substantive bzw. Eigennamen?\n",
    "- Plotten Sie die Anzahl der verschieden Woerter im Text ueber deren Rang in doppelt-logarithmischen\n",
    "Skalen. \n",
    "- Legen Sie eine Gerade durch die doppelt-logarithmischen Daten des Rang-Plots und\n",
    "geben Sie den Anstieg an.\n",
    "- Die Anzahl der Vorkommen eines Wortes ist durch eine Zipf-Verteilung gegeben. Welchen\n",
    "Exponenten hat die Verteilung im Fall dieses Textes?\n",
    "\n",
    "Von Affen und Schreibmaschinen : \n",
    "- Schreiben Sie eine Funktion, welche eine zufaellige\n",
    "Folge von Buchstaben, Satzzeichen und Leerzeichen in eine Textdatei schreibt. Dabei\n",
    "soll in jedem Schritt ein Leer- oder beliebiges Satzzeichen mit der Wahrscheinlichkeit\n",
    "`p` ausgegeben werden, oder mit der Wahrscheinlichkeit `(1 − p)` ein beliebiger zufaelliger\n",
    "Buchstabe. Fuegen Sie gegebenenfalls auch regelmaeßig Zeilenumbrueche `’\\n’` hinzu.\n",
    "Nachdem Sie eine hinreichend große Textdatei erzeugt haben, fuehren Sie nocheinmal\n",
    "eine Statistik ueber die zufaelligen Woerter in diesem Text durch."
   ]
  },
  {
   "cell_type": "markdown",
   "metadata": {},
   "source": [
    "#### Regulaere Ausdruecke\n",
    "das Python `re` Modul : https://docs.python.org/3/library/re.html\n",
    "\n",
    "Python re cheat-sheet : https://github.com/tartley/python-regex-cheatsheet/releases/download/v0.3.3/cheatsheet.pdf"
   ]
  },
  {
   "cell_type": "markdown",
   "metadata": {},
   "source": [
    "#### Zipf Verteilung\n",
    "Wikipedia : <a href=\"https://en.wikipedia.org/wiki/Zipf's_law\">Zipf-Law</a>\n"
   ]
  }
 ],
 "metadata": {
  "kernelspec": {
   "display_name": "Python 3",
   "language": "python",
   "name": "python3"
  },
  "language_info": {
   "codemirror_mode": {
    "name": "ipython",
    "version": 3
   },
   "file_extension": ".py",
   "mimetype": "text/x-python",
   "name": "python",
   "nbconvert_exporter": "python",
   "pygments_lexer": "ipython3",
   "version": "3.7.4"
  }
 },
 "nbformat": 4,
 "nbformat_minor": 1
}
